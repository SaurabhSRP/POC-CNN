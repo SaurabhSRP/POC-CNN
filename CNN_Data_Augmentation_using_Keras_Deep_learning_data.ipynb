{
  "nbformat": 4,
  "nbformat_minor": 0,
  "metadata": {
    "colab": {
      "provenance": [],
      "collapsed_sections": [],
      "authorship_tag": "ABX9TyN3b8CpE8Tg0FvIuzd758Jb",
      "include_colab_link": true
    },
    "kernelspec": {
      "name": "python3",
      "display_name": "Python 3"
    },
    "language_info": {
      "name": "python"
    }
  },
  "cells": [
    {
      "cell_type": "markdown",
      "metadata": {
        "id": "view-in-github",
        "colab_type": "text"
      },
      "source": [
        "<a href=\"https://colab.research.google.com/github/SaurabhSRP/POC-CNN/blob/main/CNN_Data_Augmentation_using_Keras_Deep_learning_data.ipynb\" target=\"_parent\"><img src=\"https://colab.research.google.com/assets/colab-badge.svg\" alt=\"Open In Colab\"/></a>"
      ]
    },
    {
      "cell_type": "markdown",
      "source": [
        "###Keras documentation link for data augmentation\n",
        "\n",
        "https://blog.keras.io/building-powerful-image-classification-models-using-very-little-data.html\n",
        "\n"
      ],
      "metadata": {
        "id": "V8C9aP5z-Lmt"
      }
    },
    {
      "cell_type": "code",
      "execution_count": null,
      "metadata": {
        "id": "462pRsm37BE3"
      },
      "outputs": [],
      "source": [
        "##Data augmentation using python and Keras \n",
        "from keras.preprocessing.image import ImageDataGenerator ,array_to_img,img_to_array, load_img\n",
        "\n",
        "datagen=ImageDataGenerator(\n",
        "    rotation_range=40,\n",
        "    width_shift_range=0.2,\n",
        "    height_shift_range=0.2,\n",
        "    shear_range=0.2,\n",
        "    zoom_range=0.2,\n",
        "    horizontal_flip=True,\n",
        "    fill_mode='nearest'\n",
        ")\n",
        "\n",
        "img=load_img('/content/drive/MyDrive/datasets/CNN/DATA augementation/red-white-cat-i-white-studio_155003-13189.jpg') #This is a PIL image\n",
        "\n",
        "x=img_to_array(img) #this is a numpy array with shape (3,360,540) (rgb,pixel,pixel)\n",
        "y=x.reshape((1,)+x.shape) #we add a fourth dimension to make shape (1,3,360,540)\n",
        "\n"
      ]
    },
    {
      "cell_type": "code",
      "source": [
        "print(x.shape)\n",
        "print(y.shape)"
      ],
      "metadata": {
        "colab": {
          "base_uri": "https://localhost:8080/"
        },
        "id": "aN5Pq76mBTEw",
        "outputId": "b69647e6-2fcd-41e4-a71b-a32b05ec17e4"
      },
      "execution_count": null,
      "outputs": [
        {
          "output_type": "stream",
          "name": "stdout",
          "text": [
            "(540, 360, 3)\n",
            "(1, 540, 360, 3)\n"
          ]
        }
      ]
    },
    {
      "cell_type": "code",
      "source": [
        "##The .flow command below generates batches of randomly transformed images \n",
        "##and saves the result in preview/ folder or directory\n",
        "\n",
        "i=0\n",
        "for batch in datagen.flow(y,batch_size=1,save_to_dir='/content/sample_data/preview',save_prefix='cat',save_format='jpeg'):\n",
        "  i+=1\n",
        "  if i >20:\n",
        "    break #otherwise the generator will loop indefinitely"
      ],
      "metadata": {
        "id": "ChHUATsxBpnd"
      },
      "execution_count": null,
      "outputs": []
    },
    {
      "cell_type": "code",
      "source": [],
      "metadata": {
        "id": "PNlLPx1aCTk2"
      },
      "execution_count": null,
      "outputs": []
    }
  ]
}